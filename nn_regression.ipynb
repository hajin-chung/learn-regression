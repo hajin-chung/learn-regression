{
  "cells": [
    {
      "cell_type": "code",
      "execution_count": 1,
      "metadata": {
        "id": "ouhNGe-cLOJO"
      },
      "outputs": [],
      "source": [
        "import tensorflow as tf\n",
        "import matplotlib.pyplot as plt\n",
        "import numpy as np\n",
        "import pandas as pd\n",
        "import os\n",
        "\n",
        "os.environ['CUDA_VISIBLE_DEVICES'] = '-1'"
      ]
    },
    {
      "cell_type": "code",
      "execution_count": 3,
      "metadata": {
        "id": "qJy9Q1HyLOJP"
      },
      "outputs": [],
      "source": [
        "df = pd.read_csv(\"https://raw.githubusercontent.com/hajin-chung/learn-regression/main/data/indexData.csv\")\n",
        "\n",
        "df = df.loc[df['Index'] == 'NYA']"
      ]
    },
    {
      "cell_type": "code",
      "execution_count": 4,
      "metadata": {
        "colab": {
          "base_uri": "https://localhost:8080/",
          "height": 370
        },
        "id": "nJNuLBoJLOJP",
        "outputId": "218a822f-f6b7-4e51-c4f2-bbbfc328daec"
      },
      "outputs": [
        {
          "output_type": "stream",
          "name": "stdout",
          "text": [
            "(3000,) (3000,)\n",
            "(2000,)\n"
          ]
        },
        {
          "output_type": "display_data",
          "data": {
            "text/plain": [
              "<Figure size 576x360 with 1 Axes>"
            ],
            "image/png": "[encoded data removed]"
          },
          "metadata": {
            "needs_background": "light"
          }
        }
      ],
      "source": [
        "y_data = df[\"High\"].values\n",
        "x_data = np.arange(start=0, stop=len(y_data), step=1)\n",
        "\n",
        "y_data = y_data[10000:13000]\n",
        "x_data = x_data[10000:13000]\n",
        "\n",
        "y_max = max(y_data)\n",
        "y_min = min(y_data)\n",
        "x_max = max(x_data)\n",
        "x_min = min(x_data)\n",
        "\n",
        "\n",
        "y_data = (y_data - y_min) / (y_max - y_min)\n",
        "x_data = (x_data - x_min) / (x_max - x_min)\n",
        "\n",
        "\n",
        "print(x_data.shape, y_data.shape)\n",
        "\n",
        "plt.figure(figsize=(8, 5))\n",
        "plt.ylabel('high')\n",
        "plt.xlabel('day')\n",
        "plt.plot(x_data, y_data)\n",
        "\n",
        "xd = []\n",
        "yd = []\n",
        "for i in range(len(x_data)):\n",
        "  if str(x_data[i]) != 'nan' and str(y_data[i]) != 'nan':\n",
        "    xd.append([x_data[i]])\n",
        "    yd.append([y_data[i]])\n",
        "x_data = np.array(xd)\n",
        "y_data = np.array(yd)\n",
        "x_train, y_train = (np.append(x_data[::3], x_data[1::3]), np.append(y_data[::3], y_data[1::3]))\n",
        "x_test, y_test = (x_data[2::3], y_data[2::3])\n",
        "\n",
        "print(x_train.shape)\n"
      ]
    },
    {
      "cell_type": "code",
      "execution_count": 10,
      "metadata": {
        "colab": {
          "base_uri": "https://localhost:8080/"
        },
        "id": "CKsJL8VjLOJQ",
        "outputId": "1373c862-1648-48ac-a75f-ab8df5b6dab0"
      },
      "outputs": [
        {
          "output_type": "stream",
          "name": "stdout",
          "text": [
            "Model: \"sequential_2\"\n",
            "_________________________________________________________________\n",
            " Layer (type)                Output Shape              Param #   \n",
            "=================================================================\n",
            " dense_8 (Dense)             (None, 160)               320       \n",
            "                                                                 \n",
            " dropout_4 (Dropout)         (None, 160)               0         \n",
            "                                                                 \n",
            " dense_9 (Dense)             (None, 480)               77280     \n",
            "                                                                 \n",
            " dropout_5 (Dropout)         (None, 480)               0         \n",
            "                                                                 \n",
            " dense_10 (Dense)            (None, 256)               123136    \n",
            "                                                                 \n",
            " dense_11 (Dense)            (None, 1)                 257       \n",
            "                                                                 \n",
            "=================================================================\n",
            "Total params: 200,993\n",
            "Trainable params: 200,993\n",
            "Non-trainable params: 0\n",
            "_________________________________________________________________\n",
            "Epoch 1/50\n",
            "63/63 [==============================] - 1s 5ms/step - loss: 0.0405 - mae: 0.1588 - mse: 0.0405\n",
            "Epoch 2/50\n",
            "63/63 [==============================] - 0s 5ms/step - loss: 0.0135 - mae: 0.0926 - mse: 0.0135\n",
            "Epoch 3/50\n",
            "63/63 [==============================] - 0s 5ms/step - loss: 0.0083 - mae: 0.0727 - mse: 0.0083\n",
            "Epoch 4/50\n",
            "63/63 [==============================] - 0s 5ms/step - loss: 0.0076 - mae: 0.0697 - mse: 0.0076\n",
            "Epoch 5/50\n",
            "63/63 [==============================] - 0s 5ms/step - loss: 0.0080 - mae: 0.0707 - mse: 0.0080\n",
            "Epoch 6/50\n",
            "63/63 [==============================] - 0s 5ms/step - loss: 0.0078 - mae: 0.0710 - mse: 0.0078\n",
            "Epoch 7/50\n",
            "63/63 [==============================] - 0s 5ms/step - loss: 0.0071 - mae: 0.0670 - mse: 0.0071\n",
            "Epoch 8/50\n",
            "63/63 [==============================] - 0s 5ms/step - loss: 0.0077 - mae: 0.0700 - mse: 0.0077\n",
            "Epoch 9/50\n",
            "63/63 [==============================] - 0s 5ms/step - loss: 0.0070 - mae: 0.0676 - mse: 0.0070\n",
            "Epoch 10/50\n",
            "63/63 [==============================] - 0s 5ms/step - loss: 0.0075 - mae: 0.0691 - mse: 0.0075\n",
            "Epoch 11/50\n",
            "63/63 [==============================] - 0s 5ms/step - loss: 0.0066 - mae: 0.0651 - mse: 0.0066\n",
            "Epoch 12/50\n",
            "63/63 [==============================] - 0s 5ms/step - loss: 0.0070 - mae: 0.0668 - mse: 0.0070\n",
            "Epoch 13/50\n",
            "63/63 [==============================] - 0s 5ms/step - loss: 0.0070 - mae: 0.0681 - mse: 0.0070\n",
            "Epoch 14/50\n",
            "63/63 [==============================] - 0s 5ms/step - loss: 0.0068 - mae: 0.0676 - mse: 0.0068\n",
            "Epoch 15/50\n",
            "63/63 [==============================] - 0s 5ms/step - loss: 0.0072 - mae: 0.0683 - mse: 0.0072\n",
            "Epoch 16/50\n",
            "63/63 [==============================] - 0s 5ms/step - loss: 0.0069 - mae: 0.0685 - mse: 0.0069\n",
            "Epoch 17/50\n",
            "63/63 [==============================] - 0s 5ms/step - loss: 0.0060 - mae: 0.0628 - mse: 0.0060\n",
            "Epoch 18/50\n",
            "63/63 [==============================] - 0s 5ms/step - loss: 0.0060 - mae: 0.0636 - mse: 0.0060\n",
            "Epoch 19/50\n",
            "63/63 [==============================] - 0s 5ms/step - loss: 0.0063 - mae: 0.0635 - mse: 0.0063\n",
            "Epoch 20/50\n",
            "63/63 [==============================] - 0s 6ms/step - loss: 0.0069 - mae: 0.0665 - mse: 0.0069\n",
            "Epoch 21/50\n",
            "63/63 [==============================] - 1s 8ms/step - loss: 0.0058 - mae: 0.0615 - mse: 0.0058\n",
            "Epoch 22/50\n",
            "63/63 [==============================] - 1s 9ms/step - loss: 0.0060 - mae: 0.0634 - mse: 0.0060\n",
            "Epoch 23/50\n",
            "63/63 [==============================] - 0s 7ms/step - loss: 0.0060 - mae: 0.0630 - mse: 0.0060\n",
            "Epoch 24/50\n",
            "63/63 [==============================] - 0s 5ms/step - loss: 0.0056 - mae: 0.0613 - mse: 0.0056\n",
            "Epoch 25/50\n",
            "63/63 [==============================] - 0s 5ms/step - loss: 0.0056 - mae: 0.0608 - mse: 0.0056\n",
            "Epoch 26/50\n",
            "63/63 [==============================] - 0s 5ms/step - loss: 0.0057 - mae: 0.0610 - mse: 0.0057\n",
            "Epoch 27/50\n",
            "63/63 [==============================] - 0s 5ms/step - loss: 0.0059 - mae: 0.0624 - mse: 0.0059\n",
            "Epoch 28/50\n",
            "63/63 [==============================] - 0s 5ms/step - loss: 0.0052 - mae: 0.0580 - mse: 0.0052\n",
            "Epoch 29/50\n",
            "63/63 [==============================] - 0s 5ms/step - loss: 0.0054 - mae: 0.0600 - mse: 0.0054\n",
            "Epoch 30/50\n",
            "63/63 [==============================] - 0s 5ms/step - loss: 0.0057 - mae: 0.0613 - mse: 0.0057\n",
            "Epoch 31/50\n",
            "63/63 [==============================] - 0s 5ms/step - loss: 0.0059 - mae: 0.0621 - mse: 0.0059\n",
            "Epoch 32/50\n",
            "63/63 [==============================] - 0s 5ms/step - loss: 0.0053 - mae: 0.0591 - mse: 0.0053\n",
            "Epoch 33/50\n",
            "63/63 [==============================] - 0s 5ms/step - loss: 0.0054 - mae: 0.0596 - mse: 0.0054\n",
            "Epoch 34/50\n",
            "63/63 [==============================] - 0s 5ms/step - loss: 0.0057 - mae: 0.0601 - mse: 0.0057\n",
            "Epoch 35/50\n",
            "63/63 [==============================] - 0s 5ms/step - loss: 0.0054 - mae: 0.0597 - mse: 0.0054\n",
            "Epoch 36/50\n",
            "63/63 [==============================] - 0s 5ms/step - loss: 0.0060 - mae: 0.0632 - mse: 0.0060\n",
            "Epoch 37/50\n",
            "63/63 [==============================] - 0s 5ms/step - loss: 0.0055 - mae: 0.0598 - mse: 0.0055\n",
            "Epoch 38/50\n",
            "63/63 [==============================] - 0s 5ms/step - loss: 0.0051 - mae: 0.0577 - mse: 0.0051\n",
            "Epoch 39/50\n",
            "63/63 [==============================] - 0s 5ms/step - loss: 0.0060 - mae: 0.0629 - mse: 0.0060\n",
            "Epoch 40/50\n",
            "63/63 [==============================] - 0s 5ms/step - loss: 0.0053 - mae: 0.0594 - mse: 0.0053\n",
            "Epoch 41/50\n",
            "63/63 [==============================] - 0s 5ms/step - loss: 0.0052 - mae: 0.0579 - mse: 0.0052\n",
            "Epoch 42/50\n",
            "63/63 [==============================] - 0s 5ms/step - loss: 0.0052 - mae: 0.0585 - mse: 0.0052\n",
            "Epoch 43/50\n",
            "63/63 [==============================] - 0s 5ms/step - loss: 0.0055 - mae: 0.0595 - mse: 0.0055\n",
            "Epoch 44/50\n",
            "63/63 [==============================] - 0s 5ms/step - loss: 0.0048 - mae: 0.0567 - mse: 0.0048\n",
            "Epoch 45/50\n",
            "63/63 [==============================] - 0s 5ms/step - loss: 0.0058 - mae: 0.0615 - mse: 0.0058\n",
            "Epoch 46/50\n",
            "63/63 [==============================] - 0s 5ms/step - loss: 0.0051 - mae: 0.0575 - mse: 0.0051\n",
            "Epoch 47/50\n",
            "63/63 [==============================] - 0s 5ms/step - loss: 0.0050 - mae: 0.0577 - mse: 0.0050\n",
            "Epoch 48/50\n",
            "63/63 [==============================] - 0s 5ms/step - loss: 0.0054 - mae: 0.0589 - mse: 0.0054\n",
            "Epoch 49/50\n",
            "63/63 [==============================] - 0s 5ms/step - loss: 0.0048 - mae: 0.0558 - mse: 0.0048\n",
            "Epoch 50/50\n",
            "63/63 [==============================] - 0s 5ms/step - loss: 0.0047 - mae: 0.0559 - mse: 0.0047\n",
            "32/32 - 0s - loss: 0.0041 - mae: 0.0545 - mse: 0.0041 - 162ms/epoch - 5ms/step\n"
          ]
        },
        {
          "output_type": "execute_result",
          "data": {
            "text/plain": [
              "[0.004096962511539459, 0.05446166172623634, 0.004096962511539459]"
            ]
          },
          "metadata": {},
          "execution_count": 10
        }
      ],
      "source": [
        "model = tf.keras.models.Sequential([\n",
        "  tf.keras.layers.Input(1),\n",
        "  tf.keras.layers.Dense(160, activation='linear'),\n",
        "  tf.keras.layers.Dropout(0.2),\n",
        "  tf.keras.layers.Dense(480, activation='linear'),\n",
        "  tf.keras.layers.Dropout(0.2),\n",
        "  tf.keras.layers.Dense(256, activation='relu'),\n",
        "  tf.keras.layers.Dense(1, activation='linear')\n",
        "])\n",
        "\n",
        "model.compile(\n",
        "  optimizer='adam', \n",
        "  loss='mse', \n",
        "  metrics=['mae', 'mse'])\n",
        "\n",
        "model.summary()\n",
        "\n",
        "hist = model.fit(x_train, y_train, epochs=50)\n",
        "model.evaluate(x_test, y_test, verbose=2)\n"
      ]
    },
    {
      "cell_type": "code",
      "execution_count": 11,
      "metadata": {
        "colab": {
          "base_uri": "https://localhost:8080/",
          "height": 283
        },
        "id": "XtWDUMBmLOJQ",
        "outputId": "663e3acc-d802-4c99-c469-d469d0c32264"
      },
      "outputs": [
        {
          "output_type": "execute_result",
          "data": {
            "text/plain": [
              "[<matplotlib.lines.Line2D at 0x7f58fed67c50>]"
            ]
          },
          "metadata": {},
          "execution_count": 11
        },
        {
          "output_type": "display_data",
          "data": {
            "text/plain": [
              "<Figure size 432x288 with 1 Axes>"
            ],
            "image/png": "[encoded data removed]"
          },
          "metadata": {
            "needs_background": "light"
          }
        }
      ],
      "source": [
        "plt.plot(x_data, model.predict(x_data))\n",
        "plt.plot(x_data, y_data)"
      ]
    }
  ],
  "metadata": {
    "kernelspec": {
      "display_name": "Python 3.10.5 64-bit",
      "language": "python",
      "name": "python3"
    },
    "language_info": {
      "codemirror_mode": {
        "name": "ipython",
        "version": 3
      },
      "file_extension": ".py",
      "mimetype": "text/x-python",
      "name": "python",
      "nbconvert_exporter": "python",
      "pygments_lexer": "ipython3",
      "version": "3.10.7"
    },
    "orig_nbformat": 4,
    "vscode": {
      "interpreter": {
        "hash": "369f2c481f4da34e4445cda3fffd2e751bd1c4d706f27375911949ba6bb62e1c"
      }
    },
    "colab": {
      "provenance": []
    }
  },
  "nbformat": 4,
  "nbformat_minor": 0
}